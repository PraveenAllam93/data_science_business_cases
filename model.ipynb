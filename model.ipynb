{
 "cells": [
  {
   "cell_type": "markdown",
   "metadata": {},
   "source": [
    "#### imports"
   ]
  },
  {
   "cell_type": "code",
   "execution_count": 52,
   "metadata": {},
   "outputs": [],
   "source": [
    "import numpy as np\n",
    "import pandas as pd\n",
    "\n",
    "from sklearn.model_selection import train_test_split, KFold, GridSearchCV\n",
    "from category_encoders import TargetEncoder\n",
    "from sklearn.preprocessing import StandardScaler\n",
    "from imblearn.over_sampling import SMOTE\n",
    "\n",
    "from sklearn.linear_model import LogisticRegression\n",
    "from sklearn.tree import DecisionTreeClassifier\n",
    "from sklearn.ensemble import RandomForestClassifier, GradientBoostingClassifier\n",
    "from xgboost import XGBClassifier\n",
    "\n",
    "from sklearn.metrics import (accuracy_score, precision_score, recall_score, f1_score, \n",
    "                                roc_auc_score, confusion_matrix, ConfusionMatrixDisplay, \n",
    "                                    precision_recall_curve, classification_report)"
   ]
  },
  {
   "cell_type": "markdown",
   "metadata": {},
   "source": [
    "#### Functions"
   ]
  },
  {
   "cell_type": "code",
   "execution_count": 55,
   "metadata": {},
   "outputs": [],
   "source": [
    "global scores\n",
    "scores = {}\n",
    "\n",
    "def model_score(model_name, y_true, y_pred):\n",
    "    scores[model_name] = {  \"precession_score\" : precision_score(y_true, y_pred), \n",
    "                            \"recall_score\" : recall_score(y_true, y_pred), \n",
    "                            \"f1_score\" : f1_score(y_true, y_pred)}"
   ]
  },
  {
   "cell_type": "code",
   "execution_count": 107,
   "metadata": {},
   "outputs": [],
   "source": [
    "def metric_scores(actual, pred, data_type):\n",
    "    print(\"-\" * 70)\n",
    "    print(f\"{data_type} data results:\")\n",
    "    print(f\"  accuracy_score = {accuracy_score(actual, pred)}\")  \n",
    "    print(f\"  precision_score = {precision_score(actual, pred)}\") \n",
    "    print(f\"  recall_score = {recall_score(actual, pred)}\") \n",
    "    print(f\"  f1_score = {f1_score(actual, pred)}\") \n",
    "    \n",
    "    if data_type == \"test\":  \n",
    "        print(f\"  roc_auc_score = {roc_auc_score(actual, pred)}\")\n",
    "        print(\"  Classification Report\")\n",
    "        print(f\"{classification_report(actual, pred)}\\n\")\n",
    "        print(f\"  Confusion Matrix\")\n",
    "        conf = confusion_matrix(actual, pred)\n",
    "        ConfusionMatrixDisplay(conf).plot()"
   ]
  },
  {
   "cell_type": "code",
   "execution_count": 58,
   "metadata": {},
   "outputs": [],
   "source": [
    "def grid_search_cv(model, param_grid, scoring, X_train, y_train, folds):\n",
    "\n",
    "    k_fold = KFold(n_splits = folds, shuffle = True, random_state = random_seed)\n",
    "\n",
    "    grid_search = GridSearchCV(model, param_grid, cv = k_fold, scoring = scoring, n_jobs = -1, verbose = 1) \n",
    "    grid_search.fit(X_train, y_train)\n",
    "    \n",
    "    print(f\"best params = {grid_search.best_params_}\")\n",
    "\n",
    "    return grid_search.best_estimator_ "
   ]
  },
  {
   "cell_type": "markdown",
   "metadata": {},
   "source": [
    "#### Model"
   ]
  },
  {
   "cell_type": "code",
   "execution_count": 57,
   "metadata": {},
   "outputs": [],
   "source": [
    "random_seed = 42"
   ]
  },
  {
   "cell_type": "code",
   "execution_count": 47,
   "metadata": {},
   "outputs": [
    {
     "data": {
      "text/html": [
       "<div>\n",
       "<style scoped>\n",
       "    .dataframe tbody tr th:only-of-type {\n",
       "        vertical-align: middle;\n",
       "    }\n",
       "\n",
       "    .dataframe tbody tr th {\n",
       "        vertical-align: top;\n",
       "    }\n",
       "\n",
       "    .dataframe thead th {\n",
       "        text-align: right;\n",
       "    }\n",
       "</style>\n",
       "<table border=\"1\" class=\"dataframe\">\n",
       "  <thead>\n",
       "    <tr style=\"text-align: right;\">\n",
       "      <th></th>\n",
       "      <th>Income_mean</th>\n",
       "      <th>Income_last</th>\n",
       "      <th>Total Business Value_sum</th>\n",
       "      <th>Total Business Value_min</th>\n",
       "      <th>Total Business Value_max</th>\n",
       "      <th>Total Business Value_mean</th>\n",
       "      <th>Total Business Value_last</th>\n",
       "      <th>City_last</th>\n",
       "      <th>Education_Level_last</th>\n",
       "      <th>Joining Designation_last</th>\n",
       "      <th>...</th>\n",
       "      <th>Grade_max</th>\n",
       "      <th>Grade_mean</th>\n",
       "      <th>Grade_last</th>\n",
       "      <th>Quarterly Rating_max</th>\n",
       "      <th>Gender_last</th>\n",
       "      <th>churn</th>\n",
       "      <th>rating_change</th>\n",
       "      <th>income_change</th>\n",
       "      <th>days_worked</th>\n",
       "      <th>current_month</th>\n",
       "    </tr>\n",
       "  </thead>\n",
       "  <tbody>\n",
       "    <tr>\n",
       "      <th>0</th>\n",
       "      <td>57387.0</td>\n",
       "      <td>57387.0</td>\n",
       "      <td>1715580.0</td>\n",
       "      <td>-665480.0</td>\n",
       "      <td>2381060.0</td>\n",
       "      <td>571860.0</td>\n",
       "      <td>0.0</td>\n",
       "      <td>23</td>\n",
       "      <td>2.0</td>\n",
       "      <td>1.0</td>\n",
       "      <td>...</td>\n",
       "      <td>1.0</td>\n",
       "      <td>1.0</td>\n",
       "      <td>1.0</td>\n",
       "      <td>2.0</td>\n",
       "      <td>0.0</td>\n",
       "      <td>1</td>\n",
       "      <td>0</td>\n",
       "      <td>0</td>\n",
       "      <td>68</td>\n",
       "      <td>3</td>\n",
       "    </tr>\n",
       "    <tr>\n",
       "      <th>1</th>\n",
       "      <td>67016.0</td>\n",
       "      <td>67016.0</td>\n",
       "      <td>0.0</td>\n",
       "      <td>0.0</td>\n",
       "      <td>0.0</td>\n",
       "      <td>0.0</td>\n",
       "      <td>0.0</td>\n",
       "      <td>7</td>\n",
       "      <td>2.0</td>\n",
       "      <td>2.0</td>\n",
       "      <td>...</td>\n",
       "      <td>2.0</td>\n",
       "      <td>2.0</td>\n",
       "      <td>2.0</td>\n",
       "      <td>1.0</td>\n",
       "      <td>0.0</td>\n",
       "      <td>0</td>\n",
       "      <td>0</td>\n",
       "      <td>0</td>\n",
       "      <td>26</td>\n",
       "      <td>12</td>\n",
       "    </tr>\n",
       "    <tr>\n",
       "      <th>2</th>\n",
       "      <td>65603.0</td>\n",
       "      <td>65603.0</td>\n",
       "      <td>350000.0</td>\n",
       "      <td>0.0</td>\n",
       "      <td>350000.0</td>\n",
       "      <td>70000.0</td>\n",
       "      <td>0.0</td>\n",
       "      <td>13</td>\n",
       "      <td>2.0</td>\n",
       "      <td>2.0</td>\n",
       "      <td>...</td>\n",
       "      <td>2.0</td>\n",
       "      <td>2.0</td>\n",
       "      <td>2.0</td>\n",
       "      <td>1.0</td>\n",
       "      <td>0.0</td>\n",
       "      <td>1</td>\n",
       "      <td>0</td>\n",
       "      <td>0</td>\n",
       "      <td>117</td>\n",
       "      <td>4</td>\n",
       "    </tr>\n",
       "    <tr>\n",
       "      <th>3</th>\n",
       "      <td>46368.0</td>\n",
       "      <td>46368.0</td>\n",
       "      <td>120360.0</td>\n",
       "      <td>0.0</td>\n",
       "      <td>120360.0</td>\n",
       "      <td>40120.0</td>\n",
       "      <td>0.0</td>\n",
       "      <td>9</td>\n",
       "      <td>0.0</td>\n",
       "      <td>1.0</td>\n",
       "      <td>...</td>\n",
       "      <td>1.0</td>\n",
       "      <td>1.0</td>\n",
       "      <td>1.0</td>\n",
       "      <td>1.0</td>\n",
       "      <td>0.0</td>\n",
       "      <td>1</td>\n",
       "      <td>0</td>\n",
       "      <td>0</td>\n",
       "      <td>52</td>\n",
       "      <td>3</td>\n",
       "    </tr>\n",
       "    <tr>\n",
       "      <th>4</th>\n",
       "      <td>78728.0</td>\n",
       "      <td>78728.0</td>\n",
       "      <td>1265000.0</td>\n",
       "      <td>0.0</td>\n",
       "      <td>1265000.0</td>\n",
       "      <td>253000.0</td>\n",
       "      <td>0.0</td>\n",
       "      <td>11</td>\n",
       "      <td>1.0</td>\n",
       "      <td>3.0</td>\n",
       "      <td>...</td>\n",
       "      <td>3.0</td>\n",
       "      <td>3.0</td>\n",
       "      <td>3.0</td>\n",
       "      <td>2.0</td>\n",
       "      <td>1.0</td>\n",
       "      <td>0</td>\n",
       "      <td>1</td>\n",
       "      <td>0</td>\n",
       "      <td>124</td>\n",
       "      <td>12</td>\n",
       "    </tr>\n",
       "  </tbody>\n",
       "</table>\n",
       "<p>5 rows × 22 columns</p>\n",
       "</div>"
      ],
      "text/plain": [
       "   Income_mean  Income_last  Total Business Value_sum  \\\n",
       "0      57387.0      57387.0                 1715580.0   \n",
       "1      67016.0      67016.0                       0.0   \n",
       "2      65603.0      65603.0                  350000.0   \n",
       "3      46368.0      46368.0                  120360.0   \n",
       "4      78728.0      78728.0                 1265000.0   \n",
       "\n",
       "   Total Business Value_min  Total Business Value_max  \\\n",
       "0                 -665480.0                 2381060.0   \n",
       "1                       0.0                       0.0   \n",
       "2                       0.0                  350000.0   \n",
       "3                       0.0                  120360.0   \n",
       "4                       0.0                 1265000.0   \n",
       "\n",
       "   Total Business Value_mean  Total Business Value_last  City_last  \\\n",
       "0                   571860.0                        0.0         23   \n",
       "1                        0.0                        0.0          7   \n",
       "2                    70000.0                        0.0         13   \n",
       "3                    40120.0                        0.0          9   \n",
       "4                   253000.0                        0.0         11   \n",
       "\n",
       "   Education_Level_last  Joining Designation_last  ...  Grade_max  Grade_mean  \\\n",
       "0                   2.0                       1.0  ...        1.0         1.0   \n",
       "1                   2.0                       2.0  ...        2.0         2.0   \n",
       "2                   2.0                       2.0  ...        2.0         2.0   \n",
       "3                   0.0                       1.0  ...        1.0         1.0   \n",
       "4                   1.0                       3.0  ...        3.0         3.0   \n",
       "\n",
       "   Grade_last  Quarterly Rating_max  Gender_last  churn  rating_change  \\\n",
       "0         1.0                   2.0          0.0      1              0   \n",
       "1         2.0                   1.0          0.0      0              0   \n",
       "2         2.0                   1.0          0.0      1              0   \n",
       "3         1.0                   1.0          0.0      1              0   \n",
       "4         3.0                   2.0          1.0      0              1   \n",
       "\n",
       "   income_change  days_worked  current_month  \n",
       "0              0           68              3  \n",
       "1              0           26             12  \n",
       "2              0          117              4  \n",
       "3              0           52              3  \n",
       "4              0          124             12  \n",
       "\n",
       "[5 rows x 22 columns]"
      ]
     },
     "execution_count": 47,
     "metadata": {},
     "output_type": "execute_result"
    }
   ],
   "source": [
    "df = pd.read_csv(\"data.csv\")\n",
    "df.head()"
   ]
  },
  {
   "cell_type": "code",
   "execution_count": 48,
   "metadata": {},
   "outputs": [],
   "source": [
    "X = df.drop(\"churn\", axis = 1).copy()\n",
    "y = df.churn.copy()"
   ]
  },
  {
   "cell_type": "code",
   "execution_count": 49,
   "metadata": {},
   "outputs": [
    {
     "name": "stdout",
     "output_type": "stream",
     "text": [
      "shape of the data \n",
      "train: \n",
      "  X_train = (1903, 21)\n",
      "  y_train = (1903,)\n",
      "test: \n",
      "  X_test = (476, 21)\n",
      "  y_test = (476,)\n"
     ]
    }
   ],
   "source": [
    "X_train, X_test, y_train, y_test = train_test_split(X, y, test_size = 0.2, stratify = y, random_state = random_seed)\n",
    "\n",
    "print(f\"shape of the data \")\n",
    "print(\"train: \")\n",
    "print(f\"  X_train = {X_train.shape}\")\n",
    "print(f\"  y_train = {y_train.shape}\")\n",
    "\n",
    "print(\"test: \")\n",
    "print(f\"  X_test = {X_test.shape}\")\n",
    "print(f\"  y_test = {y_test.shape}\")\n"
   ]
  },
  {
   "cell_type": "code",
   "execution_count": 50,
   "metadata": {},
   "outputs": [],
   "source": [
    "cols = [col for col in X_train.columns if df[col].nunique() <= 30 or df[col].dtype == \"O\"]\n",
    "te = TargetEncoder(cols = cols)\n",
    "te.fit(X_train, y_train)\n",
    "\n",
    "X_train = te.transform(X_train)\n",
    "X_test = te.transform(X_test)"
   ]
  },
  {
   "cell_type": "markdown",
   "metadata": {},
   "source": [
    "##### Logistic Regression - Model"
   ]
  },
  {
   "cell_type": "markdown",
   "metadata": {},
   "source": [
    "oversampling the minor class"
   ]
  },
  {
   "cell_type": "code",
   "execution_count": 51,
   "metadata": {},
   "outputs": [],
   "source": [
    "scaler = StandardScaler()\n",
    "scaler.fit(X_train)\n",
    "X_train_sca = scaler.transform(X_train)\n",
    "X_test_sca = scaler.transform(X_test)"
   ]
  },
  {
   "cell_type": "code",
   "execution_count": 91,
   "metadata": {},
   "outputs": [
    {
     "data": {
      "text/plain": [
       "churn\n",
       "1    67.63\n",
       "0    32.37\n",
       "Name: proportion, dtype: float64"
      ]
     },
     "execution_count": 91,
     "metadata": {},
     "output_type": "execute_result"
    }
   ],
   "source": [
    "(y_train.value_counts(normalize = True) * 100).round(2)"
   ]
  },
  {
   "cell_type": "code",
   "execution_count": 53,
   "metadata": {},
   "outputs": [
    {
     "data": {
      "text/plain": [
       "churn\n",
       "0    1287\n",
       "1    1287\n",
       "Name: count, dtype: int64"
      ]
     },
     "execution_count": 53,
     "metadata": {},
     "output_type": "execute_result"
    }
   ],
   "source": [
    "smote = SMOTE()\n",
    "X_sm, y_sm = smote.fit_resample(X_train_sca, y_train)\n",
    "y_sm.value_counts()"
   ]
  },
  {
   "cell_type": "code",
   "execution_count": 54,
   "metadata": {},
   "outputs": [
    {
     "data": {
      "text/html": [
       "<style>#sk-container-id-1 {color: black;}#sk-container-id-1 pre{padding: 0;}#sk-container-id-1 div.sk-toggleable {background-color: white;}#sk-container-id-1 label.sk-toggleable__label {cursor: pointer;display: block;width: 100%;margin-bottom: 0;padding: 0.3em;box-sizing: border-box;text-align: center;}#sk-container-id-1 label.sk-toggleable__label-arrow:before {content: \"▸\";float: left;margin-right: 0.25em;color: #696969;}#sk-container-id-1 label.sk-toggleable__label-arrow:hover:before {color: black;}#sk-container-id-1 div.sk-estimator:hover label.sk-toggleable__label-arrow:before {color: black;}#sk-container-id-1 div.sk-toggleable__content {max-height: 0;max-width: 0;overflow: hidden;text-align: left;background-color: #f0f8ff;}#sk-container-id-1 div.sk-toggleable__content pre {margin: 0.2em;color: black;border-radius: 0.25em;background-color: #f0f8ff;}#sk-container-id-1 input.sk-toggleable__control:checked~div.sk-toggleable__content {max-height: 200px;max-width: 100%;overflow: auto;}#sk-container-id-1 input.sk-toggleable__control:checked~label.sk-toggleable__label-arrow:before {content: \"▾\";}#sk-container-id-1 div.sk-estimator input.sk-toggleable__control:checked~label.sk-toggleable__label {background-color: #d4ebff;}#sk-container-id-1 div.sk-label input.sk-toggleable__control:checked~label.sk-toggleable__label {background-color: #d4ebff;}#sk-container-id-1 input.sk-hidden--visually {border: 0;clip: rect(1px 1px 1px 1px);clip: rect(1px, 1px, 1px, 1px);height: 1px;margin: -1px;overflow: hidden;padding: 0;position: absolute;width: 1px;}#sk-container-id-1 div.sk-estimator {font-family: monospace;background-color: #f0f8ff;border: 1px dotted black;border-radius: 0.25em;box-sizing: border-box;margin-bottom: 0.5em;}#sk-container-id-1 div.sk-estimator:hover {background-color: #d4ebff;}#sk-container-id-1 div.sk-parallel-item::after {content: \"\";width: 100%;border-bottom: 1px solid gray;flex-grow: 1;}#sk-container-id-1 div.sk-label:hover label.sk-toggleable__label {background-color: #d4ebff;}#sk-container-id-1 div.sk-serial::before {content: \"\";position: absolute;border-left: 1px solid gray;box-sizing: border-box;top: 0;bottom: 0;left: 50%;z-index: 0;}#sk-container-id-1 div.sk-serial {display: flex;flex-direction: column;align-items: center;background-color: white;padding-right: 0.2em;padding-left: 0.2em;position: relative;}#sk-container-id-1 div.sk-item {position: relative;z-index: 1;}#sk-container-id-1 div.sk-parallel {display: flex;align-items: stretch;justify-content: center;background-color: white;position: relative;}#sk-container-id-1 div.sk-item::before, #sk-container-id-1 div.sk-parallel-item::before {content: \"\";position: absolute;border-left: 1px solid gray;box-sizing: border-box;top: 0;bottom: 0;left: 50%;z-index: -1;}#sk-container-id-1 div.sk-parallel-item {display: flex;flex-direction: column;z-index: 1;position: relative;background-color: white;}#sk-container-id-1 div.sk-parallel-item:first-child::after {align-self: flex-end;width: 50%;}#sk-container-id-1 div.sk-parallel-item:last-child::after {align-self: flex-start;width: 50%;}#sk-container-id-1 div.sk-parallel-item:only-child::after {width: 0;}#sk-container-id-1 div.sk-dashed-wrapped {border: 1px dashed gray;margin: 0 0.4em 0.5em 0.4em;box-sizing: border-box;padding-bottom: 0.4em;background-color: white;}#sk-container-id-1 div.sk-label label {font-family: monospace;font-weight: bold;display: inline-block;line-height: 1.2em;}#sk-container-id-1 div.sk-label-container {text-align: center;}#sk-container-id-1 div.sk-container {/* jupyter's `normalize.less` sets `[hidden] { display: none; }` but bootstrap.min.css set `[hidden] { display: none !important; }` so we also need the `!important` here to be able to override the default hidden behavior on the sphinx rendered scikit-learn.org. See: https://github.com/scikit-learn/scikit-learn/issues/21755 */display: inline-block !important;position: relative;}#sk-container-id-1 div.sk-text-repr-fallback {display: none;}</style><div id=\"sk-container-id-1\" class=\"sk-top-container\"><div class=\"sk-text-repr-fallback\"><pre>LogisticRegression()</pre><b>In a Jupyter environment, please rerun this cell to show the HTML representation or trust the notebook. <br />On GitHub, the HTML representation is unable to render, please try loading this page with nbviewer.org.</b></div><div class=\"sk-container\" hidden><div class=\"sk-item\"><div class=\"sk-estimator sk-toggleable\"><input class=\"sk-toggleable__control sk-hidden--visually\" id=\"sk-estimator-id-1\" type=\"checkbox\" checked><label for=\"sk-estimator-id-1\" class=\"sk-toggleable__label sk-toggleable__label-arrow\">LogisticRegression</label><div class=\"sk-toggleable__content\"><pre>LogisticRegression()</pre></div></div></div></div></div>"
      ],
      "text/plain": [
       "LogisticRegression()"
      ]
     },
     "execution_count": 54,
     "metadata": {},
     "output_type": "execute_result"
    }
   ],
   "source": [
    "logreg = LogisticRegression()\n",
    "logreg.fit(X_sm, y_sm)"
   ]
  },
  {
   "cell_type": "code",
   "execution_count": 84,
   "metadata": {},
   "outputs": [
    {
     "name": "stdout",
     "output_type": "stream",
     "text": [
      "Scores for logistic regression model - OverSampled\n",
      "----------------------------------------------------------------------\n",
      "train data results:\n",
      "\n",
      "  accuracy_score = 0.9386169386169386\n",
      "  precision_score = 0.9661436829066887\n",
      "  recall_score = 0.9090909090909091\n",
      "  f1_score = 0.9367493995196156\n",
      "----------------------------------------------------------------------\n",
      "test data results:\n",
      "\n",
      "  accuracy_score = 0.930672268907563\n",
      "  precision_score = 0.9737704918032787\n",
      "  recall_score = 0.922360248447205\n",
      "  f1_score = 0.9473684210526316\n",
      "  roc_auc_score = 0.9352060982495765\n",
      "\n",
      "  Classification Report\n",
      "              precision    recall  f1-score   support\n",
      "\n",
      "           0       0.85      0.95      0.90       154\n",
      "           1       0.97      0.92      0.95       322\n",
      "\n",
      "    accuracy                           0.93       476\n",
      "   macro avg       0.91      0.94      0.92       476\n",
      "weighted avg       0.93      0.93      0.93       476\n",
      "\n",
      "\n",
      "  Confusion Matrix\n"
     ]
    },
    {
     "data": {
      "image/png": "[encoded data removed]",
      "text/plain": [
       "<Figure size 640x480 with 2 Axes>"
      ]
     },
     "metadata": {},
     "output_type": "display_data"
    }
   ],
   "source": [
    "print(f\"Scores for logistic regression model - OverSampled\")\n",
    "metric_scores(y_sm, logreg.predict(X_sm), data_type = \"train\")\n",
    "metric_scores(y_test, logreg.predict(X_test_sca), data_type = \"test\")"
   ]
  },
  {
   "cell_type": "markdown",
   "metadata": {},
   "source": [
    "with no oversampling in data"
   ]
  },
  {
   "cell_type": "code",
   "execution_count": 123,
   "metadata": {},
   "outputs": [
    {
     "data": {
      "text/html": [
       "<style>#sk-container-id-12 {color: black;}#sk-container-id-12 pre{padding: 0;}#sk-container-id-12 div.sk-toggleable {background-color: white;}#sk-container-id-12 label.sk-toggleable__label {cursor: pointer;display: block;width: 100%;margin-bottom: 0;padding: 0.3em;box-sizing: border-box;text-align: center;}#sk-container-id-12 label.sk-toggleable__label-arrow:before {content: \"▸\";float: left;margin-right: 0.25em;color: #696969;}#sk-container-id-12 label.sk-toggleable__label-arrow:hover:before {color: black;}#sk-container-id-12 div.sk-estimator:hover label.sk-toggleable__label-arrow:before {color: black;}#sk-container-id-12 div.sk-toggleable__content {max-height: 0;max-width: 0;overflow: hidden;text-align: left;background-color: #f0f8ff;}#sk-container-id-12 div.sk-toggleable__content pre {margin: 0.2em;color: black;border-radius: 0.25em;background-color: #f0f8ff;}#sk-container-id-12 input.sk-toggleable__control:checked~div.sk-toggleable__content {max-height: 200px;max-width: 100%;overflow: auto;}#sk-container-id-12 input.sk-toggleable__control:checked~label.sk-toggleable__label-arrow:before {content: \"▾\";}#sk-container-id-12 div.sk-estimator input.sk-toggleable__control:checked~label.sk-toggleable__label {background-color: #d4ebff;}#sk-container-id-12 div.sk-label input.sk-toggleable__control:checked~label.sk-toggleable__label {background-color: #d4ebff;}#sk-container-id-12 input.sk-hidden--visually {border: 0;clip: rect(1px 1px 1px 1px);clip: rect(1px, 1px, 1px, 1px);height: 1px;margin: -1px;overflow: hidden;padding: 0;position: absolute;width: 1px;}#sk-container-id-12 div.sk-estimator {font-family: monospace;background-color: #f0f8ff;border: 1px dotted black;border-radius: 0.25em;box-sizing: border-box;margin-bottom: 0.5em;}#sk-container-id-12 div.sk-estimator:hover {background-color: #d4ebff;}#sk-container-id-12 div.sk-parallel-item::after {content: \"\";width: 100%;border-bottom: 1px solid gray;flex-grow: 1;}#sk-container-id-12 div.sk-label:hover label.sk-toggleable__label {background-color: #d4ebff;}#sk-container-id-12 div.sk-serial::before {content: \"\";position: absolute;border-left: 1px solid gray;box-sizing: border-box;top: 0;bottom: 0;left: 50%;z-index: 0;}#sk-container-id-12 div.sk-serial {display: flex;flex-direction: column;align-items: center;background-color: white;padding-right: 0.2em;padding-left: 0.2em;position: relative;}#sk-container-id-12 div.sk-item {position: relative;z-index: 1;}#sk-container-id-12 div.sk-parallel {display: flex;align-items: stretch;justify-content: center;background-color: white;position: relative;}#sk-container-id-12 div.sk-item::before, #sk-container-id-12 div.sk-parallel-item::before {content: \"\";position: absolute;border-left: 1px solid gray;box-sizing: border-box;top: 0;bottom: 0;left: 50%;z-index: -1;}#sk-container-id-12 div.sk-parallel-item {display: flex;flex-direction: column;z-index: 1;position: relative;background-color: white;}#sk-container-id-12 div.sk-parallel-item:first-child::after {align-self: flex-end;width: 50%;}#sk-container-id-12 div.sk-parallel-item:last-child::after {align-self: flex-start;width: 50%;}#sk-container-id-12 div.sk-parallel-item:only-child::after {width: 0;}#sk-container-id-12 div.sk-dashed-wrapped {border: 1px dashed gray;margin: 0 0.4em 0.5em 0.4em;box-sizing: border-box;padding-bottom: 0.4em;background-color: white;}#sk-container-id-12 div.sk-label label {font-family: monospace;font-weight: bold;display: inline-block;line-height: 1.2em;}#sk-container-id-12 div.sk-label-container {text-align: center;}#sk-container-id-12 div.sk-container {/* jupyter's `normalize.less` sets `[hidden] { display: none; }` but bootstrap.min.css set `[hidden] { display: none !important; }` so we also need the `!important` here to be able to override the default hidden behavior on the sphinx rendered scikit-learn.org. See: https://github.com/scikit-learn/scikit-learn/issues/21755 */display: inline-block !important;position: relative;}#sk-container-id-12 div.sk-text-repr-fallback {display: none;}</style><div id=\"sk-container-id-12\" class=\"sk-top-container\"><div class=\"sk-text-repr-fallback\"><pre>LogisticRegression()</pre><b>In a Jupyter environment, please rerun this cell to show the HTML representation or trust the notebook. <br />On GitHub, the HTML representation is unable to render, please try loading this page with nbviewer.org.</b></div><div class=\"sk-container\" hidden><div class=\"sk-item\"><div class=\"sk-estimator sk-toggleable\"><input class=\"sk-toggleable__control sk-hidden--visually\" id=\"sk-estimator-id-12\" type=\"checkbox\" checked><label for=\"sk-estimator-id-12\" class=\"sk-toggleable__label sk-toggleable__label-arrow\">LogisticRegression</label><div class=\"sk-toggleable__content\"><pre>LogisticRegression()</pre></div></div></div></div></div>"
      ],
      "text/plain": [
       "LogisticRegression()"
      ]
     },
     "execution_count": 123,
     "metadata": {},
     "output_type": "execute_result"
    }
   ],
   "source": [
    "logreg1 = LogisticRegression()\n",
    "logreg1.fit(X_train_sca, y_train)"
   ]
  },
  {
   "cell_type": "code",
   "execution_count": 124,
   "metadata": {},
   "outputs": [
    {
     "name": "stdout",
     "output_type": "stream",
     "text": [
      "Scores for logistic regression model - Basic\n",
      "----------------------------------------------------------------------\n",
      "train data results:\n",
      "  accuracy_score = 0.928008407777194\n",
      "  precision_score = 0.9791666666666666\n",
      "  recall_score = 0.912975912975913\n",
      "  f1_score = 0.9449135504624046\n",
      "----------------------------------------------------------------------\n",
      "test data results:\n",
      "  accuracy_score = 0.9327731092436975\n",
      "  precision_score = 0.9738562091503268\n",
      "  recall_score = 0.9254658385093167\n",
      "  f1_score = 0.9490445859872612\n",
      "  roc_auc_score = 0.9367588932806323\n",
      "  Classification Report\n",
      "              precision    recall  f1-score   support\n",
      "\n",
      "           0       0.86      0.95      0.90       154\n",
      "           1       0.97      0.93      0.95       322\n",
      "\n",
      "    accuracy                           0.93       476\n",
      "   macro avg       0.92      0.94      0.93       476\n",
      "weighted avg       0.94      0.93      0.93       476\n",
      "\n",
      "\n",
      "  Confusion Matrix\n"
     ]
    },
    {
     "data": {
      "image/png": "[encoded data removed]",
      "text/plain": [
       "<Figure size 640x480 with 2 Axes>"
      ]
     },
     "metadata": {},
     "output_type": "display_data"
    }
   ],
   "source": [
    "print(f\"Scores for logistic regression model - Basic\")\n",
    "metric_scores(y_train, logreg1.predict(X_train_sca), data_type = \"train\")\n",
    "metric_scores(y_test, logreg1.predict(X_test_sca), data_type = \"test\")"
   ]
  },
  {
   "cell_type": "markdown",
   "metadata": {},
   "source": [
    "There is no much difference with respect to oversampling, this maybe due to the ratio between the majority to minority class being 67:33 (not so much dominating class), but we know logistic regression is impacted by imbalance in data. So, let's hypertune the model with oversampled data"
   ]
  },
  {
   "cell_type": "code",
   "execution_count": 125,
   "metadata": {},
   "outputs": [
    {
     "name": "stdout",
     "output_type": "stream",
     "text": [
      "Fitting 10 folds for each of 120 candidates, totalling 1200 fits\n",
      "best params = {'C': 10.001}\n",
      "Scores for logistic regression model (hyper parameters tuned)\n",
      "----------------------------------------------------------------------\n",
      "train data results:\n",
      "  accuracy_score = 0.9366744366744367\n",
      "  precision_score = 0.9636963696369637\n",
      "  recall_score = 0.9075369075369075\n",
      "  f1_score = 0.9347739095638256\n",
      "----------------------------------------------------------------------\n",
      "test data results:\n",
      "  accuracy_score = 0.930672268907563\n",
      "  precision_score = 0.9737704918032787\n",
      "  recall_score = 0.922360248447205\n",
      "  f1_score = 0.9473684210526316\n",
      "  roc_auc_score = 0.9352060982495765\n",
      "  Classification Report\n",
      "              precision    recall  f1-score   support\n",
      "\n",
      "           0       0.85      0.95      0.90       154\n",
      "           1       0.97      0.92      0.95       322\n",
      "\n",
      "    accuracy                           0.93       476\n",
      "   macro avg       0.91      0.94      0.92       476\n",
      "weighted avg       0.93      0.93      0.93       476\n",
      "\n",
      "\n",
      "  Confusion Matrix\n"
     ]
    },
    {
     "data": {
      "image/png": "[encoded data removed]",
      "text/plain": [
       "<Figure size 640x480 with 2 Axes>"
      ]
     },
     "metadata": {},
     "output_type": "display_data"
    }
   ],
   "source": [
    "c_values = np.arange(0.001, 1200, 10)\n",
    "\n",
    "param_grid = dict(C = c_values)\n",
    "\n",
    "logreg2 = grid_search_cv(LogisticRegression(random_state = random_seed, max_iter = 1000), param_grid, \"f1\", X_sm, y_sm, folds = 10)\n",
    "logreg2.fit(X_sm, y_sm)\n",
    "\n",
    "print(f\"Scores for logistic regression model (hyper parameters tuned)\")\n",
    "metric_scores(y_sm, logreg2.predict(X_sm), data_type = \"train\")\n",
    "metric_scores(y_test, logreg2.predict(X_test_sca), data_type = \"test\")\n",
    "\n",
    "# best params = {'C': 1.0, 'penalty': 'l1', 'solver': 'liblinear'}"
   ]
  },
  {
   "cell_type": "code",
   "execution_count": 126,
   "metadata": {},
   "outputs": [],
   "source": [
    "scores[\"LogisticRegression\"] = {\"oversampling\" : roc_auc_score(y_test, logreg1.predict(X_test_sca)),\n",
    "                                    \"sampling\" : roc_auc_score(y_test, logreg2.predict(X_test_sca))}"
   ]
  },
  {
   "cell_type": "markdown",
   "metadata": {},
   "source": [
    "#### Decision Tree"
   ]
  },
  {
   "cell_type": "markdown",
   "metadata": {},
   "source": [
    "with no oversampling"
   ]
  },
  {
   "cell_type": "code",
   "execution_count": 133,
   "metadata": {},
   "outputs": [
    {
     "name": "stdout",
     "output_type": "stream",
     "text": [
      "Fitting 5 folds for each of 10192 candidates, totalling 50960 fits\n",
      "best params = {'ccp_alpha': 0.0001, 'criterion': 'log_loss', 'max_depth': 10, 'max_features': 'sqrt', 'max_leaf_nodes': 20, 'min_samples_leaf': 20}\n",
      "\n",
      "Scores for Decision Tree Classifier model (hyper parameters tuned)\n",
      "----------------------------------------------------------------------\n",
      "train data results:\n",
      "  accuracy_score = 0.9264319495533369\n",
      "  precision_score = 0.980720871751886\n",
      "  recall_score = 0.9090909090909091\n",
      "  f1_score = 0.9435483870967741\n",
      "----------------------------------------------------------------------\n",
      "test data results:\n",
      "  accuracy_score = 0.930672268907563\n",
      "  precision_score = 0.976897689768977\n",
      "  recall_score = 0.9192546583850931\n",
      "  f1_score = 0.9472\n",
      "  roc_auc_score = 0.9369000564652739\n",
      "  Classification Report\n",
      "              precision    recall  f1-score   support\n",
      "\n",
      "           0       0.85      0.95      0.90       154\n",
      "           1       0.98      0.92      0.95       322\n",
      "\n",
      "    accuracy                           0.93       476\n",
      "   macro avg       0.91      0.94      0.92       476\n",
      "weighted avg       0.94      0.93      0.93       476\n",
      "\n",
      "\n",
      "  Confusion Matrix\n"
     ]
    },
    {
     "data": {
      "image/png": "[encoded data removed]",
      "text/plain": [
       "<Figure size 640x480 with 2 Axes>"
      ]
     },
     "metadata": {},
     "output_type": "display_data"
    }
   ],
   "source": [
    "criterion = [\"gini\", \"log_loss\"]\n",
    "max_depth = [_ for _ in range(5,70,5)]\n",
    "max_features = [\"sqrt\", \"log2\"]\n",
    "max_leaf_nodes = [_ for _ in range(10,80,10)]\n",
    "min_samples_leaf = [_ for _ in range(2,21,3)]\n",
    "ccp_alpha = [0.0001,0.001,0.1,1]\n",
    "\n",
    "param_grid = dict(criterion = criterion, max_depth = max_depth, ccp_alpha = ccp_alpha, max_features = max_features, max_leaf_nodes = max_leaf_nodes, min_samples_leaf = min_samples_leaf)\n",
    "\n",
    "decisionTreeClassifier1 = grid_search_cv(DecisionTreeClassifier(random_state = random_seed, splitter = \"best\", class_weight = \"balanced\"), param_grid, \"f1\", X_train, y_train, folds = 5)\n",
    "decisionTreeClassifier1.fit(X_train, y_train)\n",
    "\n",
    "print(f\"\\nScores for Decision Tree Classifier model (hyper parameters tuned)\")\n",
    "metric_scores(y_train, decisionTreeClassifier1.predict(X_train), data_type = \"train\")\n",
    "metric_scores(y_test, decisionTreeClassifier1.predict(X_test), data_type = \"test\")\n",
    "\n",
    "# best params = {'ccp_alpha': 0.0001, 'criterion': 'log_loss', 'max_depth': 10, 'max_features': 'sqrt', 'max_leaf_nodes': 20, 'min_samples_leaf': 20}"
   ]
  },
  {
   "cell_type": "markdown",
   "metadata": {},
   "source": [
    "with oversampling"
   ]
  },
  {
   "cell_type": "code",
   "execution_count": 132,
   "metadata": {},
   "outputs": [
    {
     "data": {
      "text/plain": [
       "churn\n",
       "0    1287\n",
       "1    1287\n",
       "Name: count, dtype: int64"
      ]
     },
     "execution_count": 132,
     "metadata": {},
     "output_type": "execute_result"
    }
   ],
   "source": [
    "smote = SMOTE()\n",
    "X_sm, y_sm = smote.fit_resample(X_train, y_train)\n",
    "y_sm.value_counts()"
   ]
  },
  {
   "cell_type": "code",
   "execution_count": 134,
   "metadata": {},
   "outputs": [
    {
     "name": "stdout",
     "output_type": "stream",
     "text": [
      "Fitting 5 folds for each of 10192 candidates, totalling 50960 fits\n",
      "best params = {'ccp_alpha': 0.0001, 'criterion': 'log_loss', 'max_depth': 10, 'max_features': 'sqrt', 'max_leaf_nodes': 40, 'min_samples_leaf': 14}\n",
      "\n",
      "Scores for Decision Tree Classifier model (hyper parameters tuned)\n",
      "----------------------------------------------------------------------\n",
      "train data results:\n",
      "  accuracy_score = 0.9487179487179487\n",
      "  precision_score = 0.9698942229454841\n",
      "  recall_score = 0.9261849261849262\n",
      "  f1_score = 0.9475357710651828\n",
      "----------------------------------------------------------------------\n",
      "test data results:\n",
      "  accuracy_score = 0.9243697478991597\n",
      "  precision_score = 0.9612903225806452\n",
      "  recall_score = 0.9254658385093167\n",
      "  f1_score = 0.9430379746835442\n",
      "  roc_auc_score = 0.9237718802936193\n",
      "  Classification Report\n",
      "              precision    recall  f1-score   support\n",
      "\n",
      "           0       0.86      0.92      0.89       154\n",
      "           1       0.96      0.93      0.94       322\n",
      "\n",
      "    accuracy                           0.92       476\n",
      "   macro avg       0.91      0.92      0.92       476\n",
      "weighted avg       0.93      0.92      0.93       476\n",
      "\n",
      "\n",
      "  Confusion Matrix\n"
     ]
    },
    {
     "data": {
      "image/png": "[encoded data removed]",
      "text/plain": [
       "<Figure size 640x480 with 2 Axes>"
      ]
     },
     "metadata": {},
     "output_type": "display_data"
    }
   ],
   "source": [
    "decisionTreeClassifier2 = grid_search_cv(DecisionTreeClassifier(random_state = random_seed, splitter = \"best\", class_weight = \"balanced\"), param_grid, \"f1\", X_sm, y_sm, folds = 5)\n",
    "decisionTreeClassifier2.fit(X_sm, y_sm)\n",
    "\n",
    "print(f\"\\nScores for Decision Tree Classifier model (hyper parameters tuned) - OverSampled\")\n",
    "metric_scores(y_sm, decisionTreeClassifier2.predict(X_sm), data_type = \"train\")\n",
    "metric_scores(y_test, decisionTreeClassifier2.predict(X_test), data_type = \"test\")\n",
    "\n",
    "# best params = {'ccp_alpha': 0.0001, 'criterion': 'log_loss', 'max_depth': 10, 'max_features': 'sqrt', 'max_leaf_nodes': 40, 'min_samples_leaf': 14}"
   ]
  },
  {
   "cell_type": "code",
   "execution_count": 135,
   "metadata": {},
   "outputs": [],
   "source": [
    "scores[\"DecisonTreeClassifier\"] = {\"oversampling\" : roc_auc_score(y_test, decisionTreeClassifier2.predict(X_test)),\n",
    "                                    \"sampling\" : roc_auc_score(y_test, decisionTreeClassifier1.predict(X_test))}"
   ]
  },
  {
   "cell_type": "code",
   "execution_count": 136,
   "metadata": {},
   "outputs": [
    {
     "data": {
      "text/plain": [
       "{'LogisticRegression': {'oversampling': 0.9367588932806323,\n",
       "  'sampling': 0.9352060982495765},\n",
       " 'DecisonTreeClassifier': {'oversampling': 0.9237718802936193,\n",
       "  'sampling': 0.9369000564652739}}"
      ]
     },
     "execution_count": 136,
     "metadata": {},
     "output_type": "execute_result"
    }
   ],
   "source": [
    "scores"
   ]
  },
  {
   "cell_type": "code",
   "execution_count": 137,
   "metadata": {},
   "outputs": [
    {
     "data": {
      "text/html": [
       "<div>\n",
       "<style scoped>\n",
       "    .dataframe tbody tr th:only-of-type {\n",
       "        vertical-align: middle;\n",
       "    }\n",
       "\n",
       "    .dataframe tbody tr th {\n",
       "        vertical-align: top;\n",
       "    }\n",
       "\n",
       "    .dataframe thead th {\n",
       "        text-align: right;\n",
       "    }\n",
       "</style>\n",
       "<table border=\"1\" class=\"dataframe\">\n",
       "  <thead>\n",
       "    <tr style=\"text-align: right;\">\n",
       "      <th></th>\n",
       "      <th>LogisticRegression</th>\n",
       "      <th>DecisonTreeClassifier</th>\n",
       "    </tr>\n",
       "  </thead>\n",
       "  <tbody>\n",
       "    <tr>\n",
       "      <th>oversampling</th>\n",
       "      <td>0.936759</td>\n",
       "      <td>0.923772</td>\n",
       "    </tr>\n",
       "    <tr>\n",
       "      <th>sampling</th>\n",
       "      <td>0.935206</td>\n",
       "      <td>0.936900</td>\n",
       "    </tr>\n",
       "  </tbody>\n",
       "</table>\n",
       "</div>"
      ],
      "text/plain": [
       "              LogisticRegression  DecisonTreeClassifier\n",
       "oversampling            0.936759               0.923772\n",
       "sampling                0.935206               0.936900"
      ]
     },
     "execution_count": 137,
     "metadata": {},
     "output_type": "execute_result"
    }
   ],
   "source": [
    "pd.DataFrame(scores)"
   ]
  },
  {
   "cell_type": "code",
   "execution_count": null,
   "metadata": {},
   "outputs": [],
   "source": []
  }
 ],
 "metadata": {
  "kernelspec": {
   "display_name": "business_cases",
   "language": "python",
   "name": "python3"
  },
  "language_info": {
   "codemirror_mode": {
    "name": "ipython",
    "version": 3
   },
   "file_extension": ".py",
   "mimetype": "text/x-python",
   "name": "python",
   "nbconvert_exporter": "python",
   "pygments_lexer": "ipython3",
   "version": "3.9.18"
  }
 },
 "nbformat": 4,
 "nbformat_minor": 2
}
